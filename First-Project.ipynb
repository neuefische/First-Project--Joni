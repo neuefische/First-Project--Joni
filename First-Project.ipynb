{
 "cells": [
  {
   "cell_type": "code",
   "execution_count": 1,
   "id": "likely-lender",
   "metadata": {},
   "outputs": [],
   "source": [
    "import matplotlib.pyplot as plt\n",
    "import numpy as np\n",
    "import pandas as pd\n",
    "from scipy import stats\n",
    "import seaborn as sns\n",
    "df = pd.read_csv(\"data/King_County_House_prices_dataset.csv\")"
   ]
  },
  {
   "cell_type": "code",
   "execution_count": 2,
   "id": "smooth-journalist",
   "metadata": {},
   "outputs": [],
   "source": [
    "df_bedrooms_price1 = df.query(\"bedrooms >= 4 and bedrooms <= 6 and price >= 100000\") # filter bedrooms ragne & price range\n",
    "price = df[[\"price\", \"bedrooms\"]]"
   ]
  },
  {
   "cell_type": "code",
   "execution_count": 48,
   "id": "passing-jackson",
   "metadata": {},
   "outputs": [
    {
     "data": {
      "text/html": [
       "<div>\n",
       "<style scoped>\n",
       "    .dataframe tbody tr th:only-of-type {\n",
       "        vertical-align: middle;\n",
       "    }\n",
       "\n",
       "    .dataframe tbody tr th {\n",
       "        vertical-align: top;\n",
       "    }\n",
       "\n",
       "    .dataframe thead th {\n",
       "        text-align: right;\n",
       "    }\n",
       "</style>\n",
       "<table border=\"1\" class=\"dataframe\">\n",
       "  <thead>\n",
       "    <tr style=\"text-align: right;\">\n",
       "      <th></th>\n",
       "      <th>id</th>\n",
       "    </tr>\n",
       "    <tr>\n",
       "      <th>bedrooms</th>\n",
       "      <th></th>\n",
       "    </tr>\n",
       "  </thead>\n",
       "  <tbody>\n",
       "    <tr>\n",
       "      <th>4</th>\n",
       "      <td>6882</td>\n",
       "    </tr>\n",
       "    <tr>\n",
       "      <th>5</th>\n",
       "      <td>1601</td>\n",
       "    </tr>\n",
       "    <tr>\n",
       "      <th>6</th>\n",
       "      <td>272</td>\n",
       "    </tr>\n",
       "    <tr>\n",
       "      <th>7</th>\n",
       "      <td>38</td>\n",
       "    </tr>\n",
       "  </tbody>\n",
       "</table>\n",
       "</div>"
      ],
      "text/plain": [
       "            id\n",
       "bedrooms      \n",
       "4         6882\n",
       "5         1601\n",
       "6          272\n",
       "7           38"
      ]
     },
     "metadata": {},
     "output_type": "display_data"
    },
    {
     "data": {
      "text/plain": [
       "<Figure size 720x720 with 0 Axes>"
      ]
     },
     "metadata": {},
     "output_type": "display_data"
    },
    {
     "data": {
      "image/png": "[encoded data removed]",
      "text/plain": [
       "<Figure size 432x288 with 1 Axes>"
      ]
     },
     "metadata": {
      "needs_background": "light"
     },
     "output_type": "display_data"
    }
   ],
   "source": [
    "# how many houses there are that have 4 or 5 or 6  or 7 Bedrooms\n",
    "df_bedrooms1 = df.query(\"bedrooms >= 4 and bedrooms <= 7\")\n",
    "groups = df_bedrooms1.groupby(['bedrooms']).count()\n",
    "groups\n",
    "plt.figure(figsize=(10, 10))\n",
    "groups.plot.bar(y = \"id\", color='darkorchid')\n",
    "display(groups[[\"id\"]])"
   ]
  },
  {
   "cell_type": "code",
   "execution_count": 51,
   "id": "agreed-payroll",
   "metadata": {},
   "outputs": [
    {
     "data": {
      "text/plain": [
       "<AxesSubplot:xlabel='bedrooms'>"
      ]
     },
     "execution_count": 51,
     "metadata": {},
     "output_type": "execute_result"
    },
    {
     "data": {
      "text/plain": [
       "<Figure size 720x720 with 0 Axes>"
      ]
     },
     "metadata": {},
     "output_type": "display_data"
    },
    {
     "data": {
      "image/png": "[encoded data removed]",
      "text/plain": [
       "<Figure size 432x288 with 1 Axes>"
      ]
     },
     "metadata": {
      "needs_background": "light"
     },
     "output_type": "display_data"
    }
   ],
   "source": [
    "#what is the medien cost for each hause\n",
    "df_bedrooms1 = df.query(\"bedrooms >= 4 and bedrooms <= 7\")\n",
    "groups = df_bedrooms1.groupby(['bedrooms']).median()\n",
    "groups\n",
    "plt.figure(figsize=(10, 10))\n",
    "groups.plot.bar(y = \"price\", color='orchid')"
   ]
  },
  {
   "cell_type": "code",
   "execution_count": 39,
   "id": "organic-thompson",
   "metadata": {},
   "outputs": [
    {
     "data": {
      "text/plain": [
       "<AxesSubplot:xlabel='bedrooms', ylabel='price'>"
      ]
     },
     "execution_count": 39,
     "metadata": {},
     "output_type": "execute_result"
    },
    {
     "data": {
      "image/png": "[encoded data removed]",
      "text/plain": [
       "<Figure size 432x288 with 1 Axes>"
      ]
     },
     "metadata": {
      "needs_background": "light"
     },
     "output_type": "display_data"
    }
   ],
   "source": [
    "# the mean price for each house\n",
    "sns.barplot(x=\"bedrooms\", y=\"price\", data=df_bedrooms1)"
   ]
  },
  {
   "cell_type": "code",
   "execution_count": 4,
   "id": "center-battery",
   "metadata": {},
   "outputs": [],
   "source": [
    "#all_bedrooms = df.query(\"bedrooms >= 4 and bedrooms <= 6\")\n",
    "all_bedrooms = all_bedrooms.count()\n",
    "#sns.barplot(x=\"bedrooms\",y=\"count\", data=all_bedrooms)\n",
    "#plt.show()\n",
    "groups = df.groupby(['bathrooms'])['price'].count()\n",
    "plt.figure(figsize=(10, 10))\n",
    "all_bedrooms.plot.bar()"
   ]
  },
  {
   "cell_type": "code",
   "execution_count": 21,
   "id": "pointed-chemical",
   "metadata": {},
   "outputs": [
    {
     "name": "stderr",
     "output_type": "stream",
     "text": [
      "/Users/jonathanpreiss/neuefische/First-Project-Joni/.venv/lib/python3.8/site-packages/seaborn/distributions.py:2557: FutureWarning: `distplot` is a deprecated function and will be removed in a future version. Please adapt your code to use either `displot` (a figure-level function with similar flexibility) or `histplot` (an axes-level function for histograms).\n",
      "  warnings.warn(msg, FutureWarning)\n"
     ]
    },
    {
     "data": {
      "image/png": "[encoded data removed]",
      "text/plain": [
       "<Figure size 432x288 with 1 Axes>"
      ]
     },
     "metadata": {
      "needs_background": "light"
     },
     "output_type": "display_data"
    }
   ],
   "source": [
    "# Houses price distribution \n",
    "sns.distplot(df['price'], color='g', bins=100, hist_kws={'alpha': 0.4});"
   ]
  },
  {
   "cell_type": "code",
   "execution_count": 47,
   "id": "unnecessary-joining",
   "metadata": {},
   "outputs": [
    {
     "data": {
      "image/png": "[encoded data removed]",
      "text/plain": [
       "<Figure size 432x288 with 1 Axes>"
      ]
     },
     "metadata": {
      "needs_background": "light"
     },
     "output_type": "display_data"
    }
   ],
   "source": [
    "df_bedrooms_price1 = df.query(\"bedrooms >= 4 and bedrooms <= 6 and price <= 800000\")\n",
    "sns.boxplot(x=\"bedrooms\", y=\"price\", data=df_bedrooms_price1)\n",
    "plt.show()"
   ]
  },
  {
   "cell_type": "code",
   "execution_count": 30,
   "id": "prostate-ladder",
   "metadata": {},
   "outputs": [
    {
     "data": {
      "image/png": "[encoded data removed]",
      "text/plain": [
       "<Figure size 432x288 with 1 Axes>"
      ]
     },
     "metadata": {
      "needs_background": "light"
     },
     "output_type": "display_data"
    }
   ],
   "source": [
    "\n",
    "df_bedrooms = df.query(\"bedrooms == 4\") # filter database for only 4 bedrooms\n",
    "df_bedrooms_price = df.query(\"bedrooms >= 4 and bedrooms <= 6\") # filter bedrooms ragne & price range\n",
    "#rooms_price = df.groupby([\"price\", \"bedrooms\"]) # group price & bedrooms\n",
    "df_bedrooms_price = df_bedrooms_price.sort_values(\"price\", ascending=True)\n",
    "df_bedrooms_price = df_bedrooms_price.head(15)\n",
    "df_bedrooms_price.plot(x='price', y='bedrooms', kind='bar', color='darkorchid');\n"
   ]
  },
  {
   "cell_type": "code",
   "execution_count": 52,
   "id": "graphic-acquisition",
   "metadata": {},
   "outputs": [
    {
     "ename": "NameError",
     "evalue": "name 'results' is not defined",
     "output_type": "error",
     "traceback": [
      "\u001b[0;31m---------------------------------------------------------------------------\u001b[0m",
      "\u001b[0;31mNameError\u001b[0m                                 Traceback (most recent call last)",
      "\u001b[0;32m<ipython-input-52-055d623857d9>\u001b[0m in \u001b[0;36m<module>\u001b[0;34m\u001b[0m\n\u001b[0;32m----> 1\u001b[0;31m \u001b[0mintercept\u001b[0m\u001b[0;34m,\u001b[0m \u001b[0mslope\u001b[0m \u001b[0;34m=\u001b[0m \u001b[0mresults\u001b[0m\u001b[0;34m.\u001b[0m\u001b[0mparams\u001b[0m\u001b[0;34m\u001b[0m\u001b[0;34m\u001b[0m\u001b[0m\n\u001b[0m\u001b[1;32m      2\u001b[0m \u001b[0mintercept\u001b[0m\u001b[0;34m\u001b[0m\u001b[0;34m\u001b[0m\u001b[0m\n\u001b[1;32m      3\u001b[0m \u001b[0;34m\u001b[0m\u001b[0m\n\u001b[1;32m      4\u001b[0m \u001b[0mfig\u001b[0m\u001b[0;34m,\u001b[0m \u001b[0max\u001b[0m \u001b[0;34m=\u001b[0m \u001b[0mplt\u001b[0m\u001b[0;34m.\u001b[0m\u001b[0msubplots\u001b[0m\u001b[0;34m(\u001b[0m\u001b[0mfigsize\u001b[0m\u001b[0;34m=\u001b[0m\u001b[0;34m(\u001b[0m\u001b[0;36m8\u001b[0m\u001b[0;34m,\u001b[0m \u001b[0;36m4\u001b[0m\u001b[0;34m)\u001b[0m\u001b[0;34m)\u001b[0m\u001b[0;34m\u001b[0m\u001b[0;34m\u001b[0m\u001b[0m\n\u001b[1;32m      5\u001b[0m \u001b[0mx\u001b[0m \u001b[0;34m=\u001b[0m \u001b[0mdf\u001b[0m\u001b[0;34m.\u001b[0m\u001b[0mprice\u001b[0m\u001b[0;34m\u001b[0m\u001b[0;34m\u001b[0m\u001b[0m\n",
      "\u001b[0;31mNameError\u001b[0m: name 'results' is not defined"
     ]
    }
   ],
   "source": [
    "\n",
    "intercept, slope = results.params\n",
    "intercept\n",
    "\n",
    "fig, ax = plt.subplots(figsize=(8, 4))\n",
    "x = df.price\n",
    "\n",
    "ax.scatter(x, y, alpha=0.5, color='orchid')\n",
    "fig.suptitle('Relationship between Price and Number of Bedroonms')\n",
    "\n",
    "ax.plot(x, x*slope +intercept, '-', color='darkorchid', linewidth=2);\n",
    "ax.set_ylabel(\"Bedrooms\");\n",
    "ax.set_xlabel(\"Price\");"
   ]
  },
  {
   "cell_type": "code",
   "execution_count": 53,
   "id": "elder-violation",
   "metadata": {},
   "outputs": [
    {
     "data": {
      "text/html": [
       "<div>\n",
       "<style scoped>\n",
       "    .dataframe tbody tr th:only-of-type {\n",
       "        vertical-align: middle;\n",
       "    }\n",
       "\n",
       "    .dataframe tbody tr th {\n",
       "        vertical-align: top;\n",
       "    }\n",
       "\n",
       "    .dataframe thead th {\n",
       "        text-align: right;\n",
       "    }\n",
       "</style>\n",
       "<table border=\"1\" class=\"dataframe\">\n",
       "  <thead>\n",
       "    <tr style=\"text-align: right;\">\n",
       "      <th></th>\n",
       "      <th>const</th>\n",
       "      <th>bedrooms</th>\n",
       "    </tr>\n",
       "  </thead>\n",
       "  <tbody>\n",
       "    <tr>\n",
       "      <th>0</th>\n",
       "      <td>1.0</td>\n",
       "      <td>3</td>\n",
       "    </tr>\n",
       "    <tr>\n",
       "      <th>1</th>\n",
       "      <td>1.0</td>\n",
       "      <td>3</td>\n",
       "    </tr>\n",
       "    <tr>\n",
       "      <th>2</th>\n",
       "      <td>1.0</td>\n",
       "      <td>2</td>\n",
       "    </tr>\n",
       "    <tr>\n",
       "      <th>3</th>\n",
       "      <td>1.0</td>\n",
       "      <td>4</td>\n",
       "    </tr>\n",
       "    <tr>\n",
       "      <th>4</th>\n",
       "      <td>1.0</td>\n",
       "      <td>3</td>\n",
       "    </tr>\n",
       "  </tbody>\n",
       "</table>\n",
       "</div>"
      ],
      "text/plain": [
       "   const  bedrooms\n",
       "0    1.0         3\n",
       "1    1.0         3\n",
       "2    1.0         2\n",
       "3    1.0         4\n",
       "4    1.0         3"
      ]
     },
     "metadata": {},
     "output_type": "display_data"
    },
    {
     "data": {
      "text/plain": [
       "0    221900.0\n",
       "1    538000.0\n",
       "2    180000.0\n",
       "3    604000.0\n",
       "4    510000.0\n",
       "Name: price, dtype: float64"
      ]
     },
     "metadata": {},
     "output_type": "display_data"
    },
    {
     "data": {
      "text/html": [
       "<table class=\"simpletable\">\n",
       "<caption>OLS Regression Results</caption>\n",
       "<tr>\n",
       "  <th>Dep. Variable:</th>          <td>price</td>      <th>  R-squared:         </th>  <td>   0.095</td>  \n",
       "</tr>\n",
       "<tr>\n",
       "  <th>Model:</th>                   <td>OLS</td>       <th>  Adj. R-squared:    </th>  <td>   0.095</td>  \n",
       "</tr>\n",
       "<tr>\n",
       "  <th>Method:</th>             <td>Least Squares</td>  <th>  F-statistic:       </th>  <td>   2276.</td>  \n",
       "</tr>\n",
       "<tr>\n",
       "  <th>Date:</th>             <td>Thu, 18 Feb 2021</td> <th>  Prob (F-statistic):</th>   <td>  0.00</td>   \n",
       "</tr>\n",
       "<tr>\n",
       "  <th>Time:</th>                 <td>15:26:27</td>     <th>  Log-Likelihood:    </th> <td>-3.0631e+05</td>\n",
       "</tr>\n",
       "<tr>\n",
       "  <th>No. Observations:</th>      <td> 21597</td>      <th>  AIC:               </th>  <td>6.126e+05</td> \n",
       "</tr>\n",
       "<tr>\n",
       "  <th>Df Residuals:</th>          <td> 21595</td>      <th>  BIC:               </th>  <td>6.126e+05</td> \n",
       "</tr>\n",
       "<tr>\n",
       "  <th>Df Model:</th>              <td>     1</td>      <th>                     </th>      <td> </td>     \n",
       "</tr>\n",
       "<tr>\n",
       "  <th>Covariance Type:</th>      <td>nonrobust</td>    <th>                     </th>      <td> </td>     \n",
       "</tr>\n",
       "</table>\n",
       "<table class=\"simpletable\">\n",
       "<tr>\n",
       "      <td></td>        <th>coef</th>     <th>std err</th>      <th>t</th>      <th>P>|t|</th>  <th>[0.025</th>    <th>0.975]</th>  \n",
       "</tr>\n",
       "<tr>\n",
       "  <th>const</th>    <td> 1.272e+05</td> <td> 8979.293</td> <td>   14.166</td> <td> 0.000</td> <td>  1.1e+05</td> <td> 1.45e+05</td>\n",
       "</tr>\n",
       "<tr>\n",
       "  <th>bedrooms</th> <td> 1.225e+05</td> <td> 2566.930</td> <td>   47.709</td> <td> 0.000</td> <td> 1.17e+05</td> <td> 1.27e+05</td>\n",
       "</tr>\n",
       "</table>\n",
       "<table class=\"simpletable\">\n",
       "<tr>\n",
       "  <th>Omnibus:</th>       <td>18831.341</td> <th>  Durbin-Watson:     </th>  <td>   1.961</td>  \n",
       "</tr>\n",
       "<tr>\n",
       "  <th>Prob(Omnibus):</th>  <td> 0.000</td>   <th>  Jarque-Bera (JB):  </th> <td>1195104.832</td>\n",
       "</tr>\n",
       "<tr>\n",
       "  <th>Skew:</th>           <td> 3.900</td>   <th>  Prob(JB):          </th>  <td>    0.00</td>  \n",
       "</tr>\n",
       "<tr>\n",
       "  <th>Kurtosis:</th>       <td>38.598</td>   <th>  Cond. No.          </th>  <td>    14.2</td>  \n",
       "</tr>\n",
       "</table><br/><br/>Notes:<br/>[1] Standard Errors assume that the covariance matrix of the errors is correctly specified."
      ],
      "text/plain": [
       "<class 'statsmodels.iolib.summary.Summary'>\n",
       "\"\"\"\n",
       "                            OLS Regression Results                            \n",
       "==============================================================================\n",
       "Dep. Variable:                  price   R-squared:                       0.095\n",
       "Model:                            OLS   Adj. R-squared:                  0.095\n",
       "Method:                 Least Squares   F-statistic:                     2276.\n",
       "Date:                Thu, 18 Feb 2021   Prob (F-statistic):               0.00\n",
       "Time:                        15:26:27   Log-Likelihood:            -3.0631e+05\n",
       "No. Observations:               21597   AIC:                         6.126e+05\n",
       "Df Residuals:                   21595   BIC:                         6.126e+05\n",
       "Df Model:                           1                                         \n",
       "Covariance Type:            nonrobust                                         \n",
       "==============================================================================\n",
       "                 coef    std err          t      P>|t|      [0.025      0.975]\n",
       "------------------------------------------------------------------------------\n",
       "const       1.272e+05   8979.293     14.166      0.000     1.1e+05    1.45e+05\n",
       "bedrooms    1.225e+05   2566.930     47.709      0.000    1.17e+05    1.27e+05\n",
       "==============================================================================\n",
       "Omnibus:                    18831.341   Durbin-Watson:                   1.961\n",
       "Prob(Omnibus):                  0.000   Jarque-Bera (JB):          1195104.832\n",
       "Skew:                           3.900   Prob(JB):                         0.00\n",
       "Kurtosis:                      38.598   Cond. No.                         14.2\n",
       "==============================================================================\n",
       "\n",
       "Notes:\n",
       "[1] Standard Errors assume that the covariance matrix of the errors is correctly specified.\n",
       "\"\"\""
      ]
     },
     "execution_count": 53,
     "metadata": {},
     "output_type": "execute_result"
    }
   ],
   "source": [
    "import statsmodels.api as sms\n",
    "X = df[[\"bedrooms\"]]\n",
    "y = df.price\n",
    "# Our model needs an intercept so we add a column of 1s:\n",
    "X = sms.add_constant(X)\n",
    "display(X.head())\n",
    "display(y.head())\n",
    "model = sms.OLS(y, X)\n",
    "# use the data to calculate the intercept and slope\n",
    "results = model.fit()\n",
    "# return the output of the model\n",
    "results.summary()"
   ]
  },
  {
   "cell_type": "code",
   "execution_count": null,
   "id": "premier-fever",
   "metadata": {},
   "outputs": [],
   "source": []
  },
  {
   "cell_type": "code",
   "execution_count": null,
   "id": "presidential-partner",
   "metadata": {},
   "outputs": [],
   "source": [
    "#job_df = df[['bedrooms', 'price']]\n",
    "#job_df = job_df[job_df.bedrooms.isin(['4', '5', '6'])].groupby(['price', 'bedrooms']).size().reset_index(name = 'size')\n",
    "\n",
    "#pivot_df = pd.pivot_table(job_df, values='size', index=['price'], columns=['bedrooms']).reset_index()\n",
    "#pivot_df.plot.bar(y=['4', '5', '6'], x='price', rot = 45, figsize=(10,10))\n",
    "#pivot_df.head()"
   ]
  },
  {
   "cell_type": "code",
   "execution_count": null,
   "id": "express-raleigh",
   "metadata": {},
   "outputs": [],
   "source": []
  }
 ],
 "metadata": {
  "kernelspec": {
   "display_name": "Python 3",
   "language": "python",
   "name": "python3"
  },
  "language_info": {
   "codemirror_mode": {
    "name": "ipython",
    "version": 3
   },
   "file_extension": ".py",
   "mimetype": "text/x-python",
   "name": "python",
   "nbconvert_exporter": "python",
   "pygments_lexer": "ipython3",
   "version": "3.8.5"
  }
 },
 "nbformat": 4,
 "nbformat_minor": 5
}
