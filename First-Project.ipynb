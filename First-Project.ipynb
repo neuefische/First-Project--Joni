{
 "cells": [
  {
   "cell_type": "code",
   "execution_count": 1,
   "id": "proper-second",
   "metadata": {},
   "outputs": [],
   "source": [
    "import matplotlib.pyplot as plt\n",
    "import numpy as np\n",
    "import pandas as pd\n",
    "from scipy import stats\n",
    "import seaborn as sns\n",
    "df = pd.read_csv(\"data/King_County_House_prices_dataset.csv\")"
   ]
  },
  {
   "cell_type": "code",
   "execution_count": 2,
   "id": "primary-plane",
   "metadata": {},
   "outputs": [],
   "source": [
    "df_bedrooms_price1 = df.query(\"bedrooms >= 4 and bedrooms <= 6 and price >= 100000\") # filter bedrooms ragne & price range\n",
    "price = df[[\"price\", \"bedrooms\"]]"
   ]
  },
  {
   "cell_type": "code",
   "execution_count": null,
   "id": "oriental-thesis",
   "metadata": {},
   "outputs": [
    {
     "data": {
      "text/plain": [
       "<AxesSubplot:>"
      ]
     },
     "execution_count": 3,
     "metadata": {},
     "output_type": "execute_result"
    },
    {
     "data": {
      "text/plain": [
       "<Figure size 720x720 with 0 Axes>"
      ]
     },
     "metadata": {},
     "output_type": "display_data"
    }
   ],
   "source": [
    "all_bedrooms = df.query(\"bedrooms >= 4 and bedrooms <= 6\")\n",
    "#all_bedrooms = all_bedrooms.count()\n",
    "#sns.barplot(x=\"bedrooms\",y=\"count\", data=all_bedrooms)\n",
    "#plt.show()\n",
    "#groups = df.groupby(['bathrooms'])['price'].count()\n",
    "plt.figure(figsize=(10, 10))\n",
    "all_bedrooms.plot.bar()"
   ]
  },
  {
   "cell_type": "code",
   "execution_count": null,
   "id": "prerequisite-occurrence",
   "metadata": {},
   "outputs": [],
   "source": [
    "sns.boxplot(x=\"bedrooms\", y=\"price\", data=df_bedrooms_price1)\n",
    "plt.show()"
   ]
  },
  {
   "cell_type": "code",
   "execution_count": null,
   "id": "retained-sheffield",
   "metadata": {},
   "outputs": [],
   "source": [
    "\n",
    "df_bedrooms = df.query(\"bedrooms == 4\") # filter database for only 4 bedrooms\n",
    "df_bedrooms_price = df.query(\"bedrooms >= 4 and bedrooms <= 6\") # filter bedrooms ragne & price range\n",
    "#rooms_price = df.groupby([\"price\", \"bedrooms\"]) # group price & bedrooms\n",
    "df_bedrooms_price = df_bedrooms_price.sort_values(\"price\", ascending=True)\n",
    "df_bedrooms_price = df_bedrooms_price.head(15)\n",
    "df_bedrooms_price.plot(x='price', y='bedrooms', kind='bar', color='darkorchid');\n"
   ]
  },
  {
   "cell_type": "code",
   "execution_count": null,
   "id": "common-stretch",
   "metadata": {},
   "outputs": [],
   "source": [
    "\n",
    "intercept, slope = results.params\n",
    "intercept\n",
    "\n",
    "fig, ax = plt.subplots(figsize=(8, 4))\n",
    "x = df.price\n",
    "\n",
    "ax.scatter(x, y, alpha=0.5, color='orchid')\n",
    "fig.suptitle('Relationship between Price and Number of Bedroonms')\n",
    "\n",
    "ax.plot(x, x*slope +intercept, '-', color='darkorchid', linewidth=2);\n",
    "ax.set_ylabel(\"Bedrooms\");\n",
    "ax.set_xlabel(\"Price\");"
   ]
  },
  {
   "cell_type": "code",
   "execution_count": null,
   "id": "treated-northeast",
   "metadata": {},
   "outputs": [],
   "source": [
    "import statsmodels.api as sms\n",
    "X = df[[\"bedrooms\"]]\n",
    "y = df.price\n",
    "# Our model needs an intercept so we add a column of 1s:\n",
    "X = sms.add_constant(X)\n",
    "display(X.head())\n",
    "display(y.head())\n",
    "model = sms.OLS(y, X)\n",
    "# use the data to calculate the intercept and slope\n",
    "results = model.fit()\n",
    "# return the output of the model\n",
    "results.summary()"
   ]
  },
  {
   "cell_type": "code",
   "execution_count": null,
   "id": "super-throat",
   "metadata": {},
   "outputs": [],
   "source": []
  },
  {
   "cell_type": "code",
   "execution_count": null,
   "id": "stupid-memorabilia",
   "metadata": {},
   "outputs": [],
   "source": [
    "#job_df = df[['bedrooms', 'price']]\n",
    "#job_df = job_df[job_df.bedrooms.isin(['4', '5', '6'])].groupby(['price', 'bedrooms']).size().reset_index(name = 'size')\n",
    "\n",
    "#pivot_df = pd.pivot_table(job_df, values='size', index=['price'], columns=['bedrooms']).reset_index()\n",
    "#pivot_df.plot.bar(y=['4', '5', '6'], x='price', rot = 45, figsize=(10,10))\n",
    "#pivot_df.head()"
   ]
  },
  {
   "cell_type": "code",
   "execution_count": null,
   "id": "looking-destination",
   "metadata": {},
   "outputs": [],
   "source": [
    "groups = df.groupby(['bathrooms'])['price'].count()\n",
    "plt.figure(figsize=(10, 10))\n",
    "groups.plot.bar()"
   ]
  },
  {
   "cell_type": "code",
   "execution_count": null,
   "id": "informational-finance",
   "metadata": {},
   "outputs": [],
   "source": []
  }
 ],
 "metadata": {
  "kernelspec": {
   "display_name": "Python 3",
   "language": "python",
   "name": "python3"
  },
  "language_info": {
   "codemirror_mode": {
    "name": "ipython",
    "version": 3
   },
   "file_extension": ".py",
   "mimetype": "text/x-python",
   "name": "python",
   "nbconvert_exporter": "python",
   "pygments_lexer": "ipython3",
   "version": "3.8.5"
  }
 },
 "nbformat": 4,
 "nbformat_minor": 5
}
